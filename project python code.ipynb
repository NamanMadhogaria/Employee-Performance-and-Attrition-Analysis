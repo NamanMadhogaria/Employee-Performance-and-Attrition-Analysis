{
 "cells": [
  {
   "cell_type": "code",
   "execution_count": 8,
   "id": "85c780aa-1681-4c89-8929-281eb2144f55",
   "metadata": {},
   "outputs": [],
   "source": [
    "import pandas as pd"
   ]
  },
  {
   "cell_type": "code",
   "execution_count": 9,
   "id": "faa39ecd-6014-4006-864d-8808fd7bfe5e",
   "metadata": {},
   "outputs": [],
   "source": [
    "df=pd.read_csv(r\"C:\\Users\\ashok\\OneDrive\\Documents\\Case Studies, Datasets, Reports\\cs4\\employee_performance_data 1.csv\")"
   ]
  },
  {
   "cell_type": "code",
   "execution_count": 10,
   "id": "a6a9e181-08c1-4679-b549-085e47bb41f4",
   "metadata": {},
   "outputs": [
    {
     "data": {
      "text/html": [
       "<div>\n",
       "<style scoped>\n",
       "    .dataframe tbody tr th:only-of-type {\n",
       "        vertical-align: middle;\n",
       "    }\n",
       "\n",
       "    .dataframe tbody tr th {\n",
       "        vertical-align: top;\n",
       "    }\n",
       "\n",
       "    .dataframe thead th {\n",
       "        text-align: right;\n",
       "    }\n",
       "</style>\n",
       "<table border=\"1\" class=\"dataframe\">\n",
       "  <thead>\n",
       "    <tr style=\"text-align: right;\">\n",
       "      <th></th>\n",
       "      <th>Employee_ID</th>\n",
       "      <th>Performance_Rating</th>\n",
       "      <th>Last_Promotion_Year</th>\n",
       "      <th>Training_Hours</th>\n",
       "      <th>Work_Life_Balance</th>\n",
       "      <th>Job_Satisfaction</th>\n",
       "    </tr>\n",
       "  </thead>\n",
       "  <tbody>\n",
       "    <tr>\n",
       "      <th>0</th>\n",
       "      <td>1</td>\n",
       "      <td>2</td>\n",
       "      <td>2019</td>\n",
       "      <td>28</td>\n",
       "      <td>3</td>\n",
       "      <td>1</td>\n",
       "    </tr>\n",
       "    <tr>\n",
       "      <th>1</th>\n",
       "      <td>2</td>\n",
       "      <td>4</td>\n",
       "      <td>2022</td>\n",
       "      <td>174</td>\n",
       "      <td>3</td>\n",
       "      <td>2</td>\n",
       "    </tr>\n",
       "  </tbody>\n",
       "</table>\n",
       "</div>"
      ],
      "text/plain": [
       "   Employee_ID  Performance_Rating  Last_Promotion_Year  Training_Hours  \\\n",
       "0            1                   2                 2019              28   \n",
       "1            2                   4                 2022             174   \n",
       "\n",
       "   Work_Life_Balance  Job_Satisfaction  \n",
       "0                  3                 1  \n",
       "1                  3                 2  "
      ]
     },
     "execution_count": 10,
     "metadata": {},
     "output_type": "execute_result"
    }
   ],
   "source": [
    "df.head(2)"
   ]
  },
  {
   "cell_type": "code",
   "execution_count": 11,
   "id": "0ae86b59-09e2-4192-9e3a-0885d1271d33",
   "metadata": {},
   "outputs": [],
   "source": [
    "df.columns = df.columns.str.lower()                        "
   ]
  },
  {
   "cell_type": "code",
   "execution_count": 12,
   "id": "dd04d7f0-50da-4d61-a29c-28c87a6968b9",
   "metadata": {},
   "outputs": [
    {
     "data": {
      "text/plain": [
       "Index(['employee_id', 'performance_rating', 'last_promotion_year',\n",
       "       'training_hours', 'work_life_balance', 'job_satisfaction'],\n",
       "      dtype='object')"
      ]
     },
     "execution_count": 12,
     "metadata": {},
     "output_type": "execute_result"
    }
   ],
   "source": [
    "df.columns"
   ]
  },
  {
   "cell_type": "code",
   "execution_count": 13,
   "id": "87c99ea9-ac59-4e94-8a10-2460f6279eb8",
   "metadata": {},
   "outputs": [
    {
     "data": {
      "text/plain": [
       "True"
      ]
     },
     "execution_count": 13,
     "metadata": {},
     "output_type": "execute_result"
    }
   ],
   "source": [
    "df['employee_id'].is_unique"
   ]
  },
  {
   "cell_type": "code",
   "execution_count": 14,
   "id": "72819b91-4c90-451e-a833-a905241d57c2",
   "metadata": {},
   "outputs": [
    {
     "data": {
      "text/plain": [
       "employee_id            0\n",
       "performance_rating     0\n",
       "last_promotion_year    0\n",
       "training_hours         0\n",
       "work_life_balance      0\n",
       "job_satisfaction       0\n",
       "dtype: int64"
      ]
     },
     "execution_count": 14,
     "metadata": {},
     "output_type": "execute_result"
    }
   ],
   "source": [
    "df.isnull().sum()"
   ]
  },
  {
   "cell_type": "code",
   "execution_count": 15,
   "id": "42c9c950-fb18-4da6-b5ad-76d75f178746",
   "metadata": {},
   "outputs": [
    {
     "data": {
      "text/plain": [
       "employee_id            int64\n",
       "performance_rating     int64\n",
       "last_promotion_year    int64\n",
       "training_hours         int64\n",
       "work_life_balance      int64\n",
       "job_satisfaction       int64\n",
       "dtype: object"
      ]
     },
     "execution_count": 15,
     "metadata": {},
     "output_type": "execute_result"
    }
   ],
   "source": [
    "df.dtypes"
   ]
  },
  {
   "cell_type": "code",
   "execution_count": 16,
   "id": "3264ab11-415a-4cd3-8e82-8d2a3fc03093",
   "metadata": {},
   "outputs": [
    {
     "name": "stdout",
     "output_type": "stream",
     "text": [
      "Data transferred successfully to cs4 database!\n"
     ]
    }
   ],
   "source": [
    "from sqlalchemy import create_engine\n",
    "\n",
    "# MySQL Connection Details\n",
    "username = \"root\"\n",
    "password = \"ashokKUMAR123!\"\n",
    "host = \"localhost\"\n",
    "database = \"cs4\"  \n",
    "\n",
    "# Create SQLAlchemy engine\n",
    "engine = create_engine(f\"mysql+pymysql://{username}:{password}@{host}/{database}\")\n",
    "\n",
    "# Transfer DataFrame to MySQL table `f_epd`\n",
    "df.to_sql(\"f_epd\", con=engine, if_exists=\"replace\", index=False)\n",
    "\n",
    "print(\"Data transferred successfully to cs4 database!\")\n"
   ]
  },
  {
   "cell_type": "code",
   "execution_count": 17,
   "id": "21bd6754-bfea-4d38-b05a-3f3a470faa7b",
   "metadata": {},
   "outputs": [],
   "source": [
    "df1=pd.read_csv(r\"C:\\Users\\ashok\\OneDrive\\Documents\\Case Studies, Datasets, Reports\\cs4\\employee_data 1.csv\")"
   ]
  },
  {
   "cell_type": "code",
   "execution_count": 18,
   "id": "304afc59-6efc-4f7f-959f-8167d8da07cb",
   "metadata": {},
   "outputs": [
    {
     "data": {
      "text/html": [
       "<div>\n",
       "<style scoped>\n",
       "    .dataframe tbody tr th:only-of-type {\n",
       "        vertical-align: middle;\n",
       "    }\n",
       "\n",
       "    .dataframe tbody tr th {\n",
       "        vertical-align: top;\n",
       "    }\n",
       "\n",
       "    .dataframe thead th {\n",
       "        text-align: right;\n",
       "    }\n",
       "</style>\n",
       "<table border=\"1\" class=\"dataframe\">\n",
       "  <thead>\n",
       "    <tr style=\"text-align: right;\">\n",
       "      <th></th>\n",
       "      <th>Employee_ID</th>\n",
       "      <th>Age</th>\n",
       "      <th>first_name</th>\n",
       "      <th>last_name</th>\n",
       "      <th>gender</th>\n",
       "      <th>Gender</th>\n",
       "      <th>Department</th>\n",
       "      <th>Job_Role</th>\n",
       "      <th>Education_Level</th>\n",
       "      <th>Marital_Status</th>\n",
       "      <th>Job_Tenure</th>\n",
       "      <th>Distance_From_Home</th>\n",
       "    </tr>\n",
       "  </thead>\n",
       "  <tbody>\n",
       "    <tr>\n",
       "      <th>0</th>\n",
       "      <td>1</td>\n",
       "      <td>22</td>\n",
       "      <td>Konstantin</td>\n",
       "      <td>Shutler</td>\n",
       "      <td>Male</td>\n",
       "      <td>Other</td>\n",
       "      <td>HR</td>\n",
       "      <td>Developer</td>\n",
       "      <td>PhD</td>\n",
       "      <td>Married</td>\n",
       "      <td>1</td>\n",
       "      <td>8</td>\n",
       "    </tr>\n",
       "    <tr>\n",
       "      <th>1</th>\n",
       "      <td>2</td>\n",
       "      <td>38</td>\n",
       "      <td>Thorvald</td>\n",
       "      <td>Skoggins</td>\n",
       "      <td>Male</td>\n",
       "      <td>Other</td>\n",
       "      <td>IT</td>\n",
       "      <td>Marketing Lead</td>\n",
       "      <td>Master's</td>\n",
       "      <td>Married</td>\n",
       "      <td>18</td>\n",
       "      <td>32</td>\n",
       "    </tr>\n",
       "  </tbody>\n",
       "</table>\n",
       "</div>"
      ],
      "text/plain": [
       "   Employee_ID  Age  first_name last_name gender Gender Department  \\\n",
       "0            1   22  Konstantin   Shutler   Male  Other         HR   \n",
       "1            2   38    Thorvald  Skoggins   Male  Other         IT   \n",
       "\n",
       "         Job_Role Education_Level Marital_Status  Job_Tenure  \\\n",
       "0       Developer             PhD        Married           1   \n",
       "1  Marketing Lead        Master's        Married          18   \n",
       "\n",
       "   Distance_From_Home  \n",
       "0                   8  \n",
       "1                  32  "
      ]
     },
     "execution_count": 18,
     "metadata": {},
     "output_type": "execute_result"
    }
   ],
   "source": [
    "df1.head(2)"
   ]
  },
  {
   "cell_type": "code",
   "execution_count": 19,
   "id": "0b58b55a-c650-47f4-a967-67827a11d2bd",
   "metadata": {},
   "outputs": [
    {
     "data": {
      "text/plain": [
       "array(['Male', 'Genderqueer', 'Female', 'Genderfluid', 'Bigender',\n",
       "       'Agender', 'Non-binary', 'Polygender'], dtype=object)"
      ]
     },
     "execution_count": 19,
     "metadata": {},
     "output_type": "execute_result"
    }
   ],
   "source": [
    "df1['gender'].unique()"
   ]
  },
  {
   "cell_type": "code",
   "execution_count": 20,
   "id": "620f9eb1-66f8-45dd-9efb-14dd62ed4b08",
   "metadata": {},
   "outputs": [
    {
     "data": {
      "text/plain": [
       "array(['Other', 'Male', 'Female'], dtype=object)"
      ]
     },
     "execution_count": 20,
     "metadata": {},
     "output_type": "execute_result"
    }
   ],
   "source": [
    "df1['Gender'].unique()"
   ]
  },
  {
   "cell_type": "code",
   "execution_count": 21,
   "id": "f1cb3d0a-14a1-4348-9c1b-f87c1443a762",
   "metadata": {},
   "outputs": [],
   "source": [
    "df1=df1.drop(columns=['Gender'])"
   ]
  },
  {
   "cell_type": "code",
   "execution_count": 22,
   "id": "edfd68a6-5120-4ae8-b260-ee32bf5dfceb",
   "metadata": {},
   "outputs": [],
   "source": [
    "df1.columns=df1.columns.str.lower()"
   ]
  },
  {
   "cell_type": "code",
   "execution_count": 23,
   "id": "a0e103bb-25c5-4e05-b66e-35845d329098",
   "metadata": {},
   "outputs": [
    {
     "data": {
      "text/plain": [
       "Index(['employee_id', 'age', 'first_name', 'last_name', 'gender', 'department',\n",
       "       'job_role', 'education_level', 'marital_status', 'job_tenure',\n",
       "       'distance_from_home'],\n",
       "      dtype='object')"
      ]
     },
     "execution_count": 23,
     "metadata": {},
     "output_type": "execute_result"
    }
   ],
   "source": [
    "df1.columns"
   ]
  },
  {
   "cell_type": "code",
   "execution_count": 24,
   "id": "045fbce8-4491-4ed7-b8a1-3feacbd5ce7f",
   "metadata": {},
   "outputs": [
    {
     "data": {
      "text/plain": [
       "True"
      ]
     },
     "execution_count": 24,
     "metadata": {},
     "output_type": "execute_result"
    }
   ],
   "source": [
    "df1['employee_id'].is_unique"
   ]
  },
  {
   "cell_type": "code",
   "execution_count": 25,
   "id": "99c7ef2e-b717-4931-9570-1cb82a4cefe1",
   "metadata": {},
   "outputs": [
    {
     "data": {
      "text/plain": [
       "employee_id           0\n",
       "age                   0\n",
       "first_name            0\n",
       "last_name             0\n",
       "gender                0\n",
       "department            0\n",
       "job_role              0\n",
       "education_level       0\n",
       "marital_status        0\n",
       "job_tenure            0\n",
       "distance_from_home    0\n",
       "dtype: int64"
      ]
     },
     "execution_count": 25,
     "metadata": {},
     "output_type": "execute_result"
    }
   ],
   "source": [
    "df1.isnull().sum()"
   ]
  },
  {
   "cell_type": "code",
   "execution_count": 26,
   "id": "b2b115ab-89de-4393-a49b-60736514735a",
   "metadata": {},
   "outputs": [
    {
     "data": {
      "text/plain": [
       "employee_id            int64\n",
       "age                    int64\n",
       "first_name            object\n",
       "last_name             object\n",
       "gender                object\n",
       "department            object\n",
       "job_role              object\n",
       "education_level       object\n",
       "marital_status        object\n",
       "job_tenure             int64\n",
       "distance_from_home     int64\n",
       "dtype: object"
      ]
     },
     "execution_count": 26,
     "metadata": {},
     "output_type": "execute_result"
    }
   ],
   "source": [
    "df1.dtypes"
   ]
  },
  {
   "cell_type": "code",
   "execution_count": 27,
   "id": "e6128e57-091a-4f1b-a867-90146a421f50",
   "metadata": {},
   "outputs": [
    {
     "data": {
      "text/plain": [
       "1000"
      ]
     },
     "execution_count": 27,
     "metadata": {},
     "output_type": "execute_result"
    }
   ],
   "source": [
    "df1.to_sql(\"d_ed\",con=engine,if_exists=\"replace\",index=False)"
   ]
  },
  {
   "cell_type": "code",
   "execution_count": 28,
   "id": "2bf5790d-5328-4d1b-8d23-9d234108cbf0",
   "metadata": {},
   "outputs": [
    {
     "data": {
      "text/plain": [
       "array(['HR', 'IT', 'Sales', 'Marketing', 'Operations', 'Finance'],\n",
       "      dtype=object)"
      ]
     },
     "execution_count": 28,
     "metadata": {},
     "output_type": "execute_result"
    }
   ],
   "source": [
    "df1[\"department\"].unique()"
   ]
  },
  {
   "cell_type": "code",
   "execution_count": 29,
   "id": "888aa0ad-e6cc-47b5-92ed-cd352980886b",
   "metadata": {},
   "outputs": [
    {
     "data": {
      "text/plain": [
       "array(['Married', 'Divorced', 'Single'], dtype=object)"
      ]
     },
     "execution_count": 29,
     "metadata": {},
     "output_type": "execute_result"
    }
   ],
   "source": [
    "df1[\"marital_status\"].unique()"
   ]
  },
  {
   "cell_type": "code",
   "execution_count": 30,
   "id": "bfb1c8a0-dced-4711-a351-0ca0a787aadf",
   "metadata": {},
   "outputs": [
    {
     "data": {
      "text/plain": [
       "array(['Developer', 'Marketing Lead', 'Senior Developer', 'Manager',\n",
       "       'HR Specialist', 'Data Analyst'], dtype=object)"
      ]
     },
     "execution_count": 30,
     "metadata": {},
     "output_type": "execute_result"
    }
   ],
   "source": [
    "df1[\"job_role\"].unique()"
   ]
  },
  {
   "cell_type": "code",
   "execution_count": 31,
   "id": "dee48f96-e6eb-48a1-9522-69a733ae97a8",
   "metadata": {},
   "outputs": [
    {
     "data": {
      "text/plain": [
       "array(['PhD', \"Master's\", \"Bachelor's\"], dtype=object)"
      ]
     },
     "execution_count": 31,
     "metadata": {},
     "output_type": "execute_result"
    }
   ],
   "source": [
    "df1[\"education_level\"].unique()"
   ]
  },
  {
   "cell_type": "code",
   "execution_count": 32,
   "id": "e68eda45-876e-48f8-a731-6541d76f3653",
   "metadata": {},
   "outputs": [],
   "source": [
    "df2=pd.read_csv(r\"C:\\Users\\ashok\\OneDrive\\Documents\\Case Studies, Datasets, Reports\\cs4\\Attrition 1.csv\")"
   ]
  },
  {
   "cell_type": "code",
   "execution_count": 33,
   "id": "91282f22-0bad-4b80-a754-0069dcf89600",
   "metadata": {},
   "outputs": [
    {
     "data": {
      "text/html": [
       "<div>\n",
       "<style scoped>\n",
       "    .dataframe tbody tr th:only-of-type {\n",
       "        vertical-align: middle;\n",
       "    }\n",
       "\n",
       "    .dataframe tbody tr th {\n",
       "        vertical-align: top;\n",
       "    }\n",
       "\n",
       "    .dataframe thead th {\n",
       "        text-align: right;\n",
       "    }\n",
       "</style>\n",
       "<table border=\"1\" class=\"dataframe\">\n",
       "  <thead>\n",
       "    <tr style=\"text-align: right;\">\n",
       "      <th></th>\n",
       "      <th>employee_ID</th>\n",
       "      <th>attrition</th>\n",
       "      <th>Exit_Interview_Score</th>\n",
       "    </tr>\n",
       "  </thead>\n",
       "  <tbody>\n",
       "    <tr>\n",
       "      <th>0</th>\n",
       "      <td>474</td>\n",
       "      <td>True</td>\n",
       "      <td>2</td>\n",
       "    </tr>\n",
       "    <tr>\n",
       "      <th>1</th>\n",
       "      <td>97</td>\n",
       "      <td>True</td>\n",
       "      <td>4</td>\n",
       "    </tr>\n",
       "    <tr>\n",
       "      <th>2</th>\n",
       "      <td>729</td>\n",
       "      <td>False</td>\n",
       "      <td>1</td>\n",
       "    </tr>\n",
       "    <tr>\n",
       "      <th>3</th>\n",
       "      <td>278</td>\n",
       "      <td>False</td>\n",
       "      <td>2</td>\n",
       "    </tr>\n",
       "    <tr>\n",
       "      <th>4</th>\n",
       "      <td>470</td>\n",
       "      <td>False</td>\n",
       "      <td>4</td>\n",
       "    </tr>\n",
       "  </tbody>\n",
       "</table>\n",
       "</div>"
      ],
      "text/plain": [
       "   employee_ID  attrition  Exit_Interview_Score\n",
       "0          474       True                     2\n",
       "1           97       True                     4\n",
       "2          729      False                     1\n",
       "3          278      False                     2\n",
       "4          470      False                     4"
      ]
     },
     "execution_count": 33,
     "metadata": {},
     "output_type": "execute_result"
    }
   ],
   "source": [
    "df2.head()"
   ]
  },
  {
   "cell_type": "code",
   "execution_count": 34,
   "id": "72864c81-401c-4d61-9d85-6d29d8cf2b87",
   "metadata": {},
   "outputs": [],
   "source": [
    "df2.columns=df2.columns.str.lower()"
   ]
  },
  {
   "cell_type": "code",
   "execution_count": 35,
   "id": "e85ffb50-8aa2-4d1f-ae76-237b25d3f693",
   "metadata": {},
   "outputs": [
    {
     "data": {
      "text/plain": [
       "Index(['employee_id', 'attrition', 'exit_interview_score'], dtype='object')"
      ]
     },
     "execution_count": 35,
     "metadata": {},
     "output_type": "execute_result"
    }
   ],
   "source": [
    "df2.columns"
   ]
  },
  {
   "cell_type": "code",
   "execution_count": 36,
   "id": "0aeb7327-438b-4959-a8ce-1b0654044806",
   "metadata": {},
   "outputs": [
    {
     "data": {
      "text/plain": [
       "employee_id             0\n",
       "attrition               0\n",
       "exit_interview_score    0\n",
       "dtype: int64"
      ]
     },
     "execution_count": 36,
     "metadata": {},
     "output_type": "execute_result"
    }
   ],
   "source": [
    "df2.isnull().sum()"
   ]
  },
  {
   "cell_type": "code",
   "execution_count": 37,
   "id": "eaf898f9-25f7-46d2-a85b-fe8d7b075176",
   "metadata": {},
   "outputs": [
    {
     "data": {
      "text/plain": [
       "False"
      ]
     },
     "execution_count": 37,
     "metadata": {},
     "output_type": "execute_result"
    }
   ],
   "source": [
    "df2[\"employee_id\"].is_unique"
   ]
  },
  {
   "cell_type": "code",
   "execution_count": 38,
   "id": "2bb326b4-c039-487e-ad93-4d29ef7a7955",
   "metadata": {},
   "outputs": [
    {
     "data": {
      "text/plain": [
       "employee_id\n",
       "97      True\n",
       "897     True\n",
       "790     True\n",
       "742     True\n",
       "253     True\n",
       "       ...  \n",
       "688    False\n",
       "829    False\n",
       "603    False\n",
       "79     False\n",
       "987    False\n",
       "Name: count, Length: 127, dtype: bool"
      ]
     },
     "execution_count": 38,
     "metadata": {},
     "output_type": "execute_result"
    }
   ],
   "source": [
    "df2[\"employee_id\"].value_counts()>1"
   ]
  },
  {
   "cell_type": "code",
   "execution_count": 39,
   "id": "d13e77af-46e9-4d25-a4b2-0a541bb82935",
   "metadata": {},
   "outputs": [
    {
     "data": {
      "text/plain": [
       "employee_id\n",
       "97     2\n",
       "897    2\n",
       "790    2\n",
       "742    2\n",
       "253    2\n",
       "929    2\n",
       "684    2\n",
       "561    2\n",
       "262    2\n",
       "640    2\n",
       "357    2\n",
       "556    2\n",
       "129    2\n",
       "216    2\n",
       "959    2\n",
       "272    2\n",
       "213    2\n",
       "Name: count, dtype: int64"
      ]
     },
     "execution_count": 39,
     "metadata": {},
     "output_type": "execute_result"
    }
   ],
   "source": [
    "df2[\"employee_id\"].value_counts()[df2[\"employee_id\"].value_counts() >1]\n"
   ]
  },
  {
   "cell_type": "code",
   "execution_count": 40,
   "id": "be2f57ae-b49e-49c7-a54e-65438316a3f8",
   "metadata": {},
   "outputs": [
    {
     "data": {
      "text/plain": [
       "employee_id             int64\n",
       "attrition                bool\n",
       "exit_interview_score    int64\n",
       "dtype: object"
      ]
     },
     "execution_count": 40,
     "metadata": {},
     "output_type": "execute_result"
    }
   ],
   "source": [
    "df2.dtypes"
   ]
  },
  {
   "cell_type": "code",
   "execution_count": 41,
   "id": "dedac98a-d3c4-4a81-9f20-2356d35ef8d6",
   "metadata": {},
   "outputs": [
    {
     "name": "stdout",
     "output_type": "stream",
     "text": [
      "Data transferred successfully to cs4 database!\n"
     ]
    }
   ],
   "source": [
    "from sqlalchemy import create_engine\n",
    "\n",
    "# MySQL Connection Details\n",
    "username = \"root\"\n",
    "password = \"ashokKUMAR123!\"\n",
    "host = \"localhost\"\n",
    "database = \"cs4\"  \n",
    "\n",
    "# Create SQLAlchemy engine\n",
    "engine = create_engine(f\"mysql+pymysql://{username}:{password}@{host}/{database}\")\n",
    "\n",
    "# Transfer DataFrame to MySQL table `f_epd`\n",
    "df2.to_sql(\"d_at\", con=engine, if_exists=\"replace\", index=False)\n",
    "\n",
    "print(\"Data transferred successfully to cs4 database!\")\n"
   ]
  },
  {
   "cell_type": "code",
   "execution_count": null,
   "id": "6ee58cbc-daa2-4065-a715-58f033a6670a",
   "metadata": {},
   "outputs": [],
   "source": []
  }
 ],
 "metadata": {
  "kernelspec": {
   "display_name": "Python 3 (ipykernel)",
   "language": "python",
   "name": "python3"
  },
  "language_info": {
   "codemirror_mode": {
    "name": "ipython",
    "version": 3
   },
   "file_extension": ".py",
   "mimetype": "text/x-python",
   "name": "python",
   "nbconvert_exporter": "python",
   "pygments_lexer": "ipython3",
   "version": "3.13.1"
  }
 },
 "nbformat": 4,
 "nbformat_minor": 5
}
